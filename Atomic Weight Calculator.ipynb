{
 "cells": [
  {
   "cell_type": "markdown",
   "id": "379b5103",
   "metadata": {},
   "source": [
    "## Atomic Weight Calculator\n",
    "#### [IUPAC](https://iupac.qmul.ac.uk/AtWt/) values as of February 2022\n",
    "#### Rounded at thousandths place\n",
    "##### Work in progress."
   ]
  },
  {
   "cell_type": "code",
   "execution_count": null,
   "id": "1c76dead",
   "metadata": {},
   "outputs": [],
   "source": [
    "#Dictionary of elements (key) and corresponding atomic masses (value)\n",
    "\n",
    "ele_dict = {'H' : 1.008,'HE' : 4.003, 'LI' : 6.94, 'BE' : 9.012,\\\n",
    "                 'B' : 10.81, 'C' : 12.011, 'N' : 14.007, 'O' : 15.999,\\\n",
    "                 'F' : 18.998, 'NE' : 20.180, 'NA' : 22.990, 'MG' : 24.305,\\\n",
    "                 'AL' : 26.982, 'SI' : 28.085, 'P' : 30.974, 'S' : 32.06,\\\n",
    "                 'CL' : 35.45, 'AR' : 39.948, 'K' : 39.098, 'CA' : 40.078,\\\n",
    "                 'SC' : 44.956, 'TI' : 47.867, 'V' : 50.942, 'CR' : 51.996,\\\n",
    "                 'MN' : 54.938, 'FE' : 55.845, 'CO' : 58.933, 'NI' : 58.693,\\\n",
    "                 'CU' : 63.546, 'ZN' : 65.38, 'GA' : 69.723, 'GE' : 72.631,\\\n",
    "                 'AS' : 74.922, 'SE' : 78.971, 'BR' : 79.904, 'KR' : 84.798,\\\n",
    "                 'RB' : 84.468, 'SR' : 87.62, 'Y' : 88.906, 'ZR' : 91.224,\\\n",
    "                 'NB' : 92.906, 'MO' : 95.95, 'TC' : 98.907, 'RU' : 101.07,\\\n",
    "                 'RH' : 102.906, 'PD' : 106.42, 'AG' : 107.868, 'CD' : 112.414,\\\n",
    "                 'IN' : 114.818, 'SN' : 118.711, 'SB' : 121.760, 'TE' : 126.7,\\\n",
    "                 'I' : 126.904, 'XE' : 131.294, 'CS' : 132.905, 'BA' : 137.328,\\\n",
    "                 'LA' : 138.905, 'CE' : 140.116, 'PR' : 140.908, 'ND' : 144.243,\\\n",
    "                 'PM' : 144.913, 'SM' : 150.36, 'EU' : 151.964, 'GD' : 157.25,\\\n",
    "                 'TB' : 158.925, 'DY': 162.500, 'HO' : 164.930, 'ER' : 167.259,\\\n",
    "                 'TM' : 168.934, 'YB' : 173.055, 'LU' : 174.967, 'HF' : 178.49,\\\n",
    "                 'TA' : 180.948, 'W' : 183.84, 'RE' : 186.207, 'OS' : 190.23,\\\n",
    "                 'IR' : 192.217, 'PT' : 195.085, 'AU' : 196.967, 'HG' : 200.592,\\\n",
    "                 'TL' : 204.383, 'PB' : 207.2, 'BI' : 208.980, 'PO' : 208.982,\\\n",
    "                 'AT' : 209.987, 'RN' : 222.081, 'FR' : 223.020, 'RA' : 226.025,\\\n",
    "                 'AC' : 227.028, 'TH' : 232.038, 'PA' : 231.036, 'U' : 238.029,\\\n",
    "                 'NP' : 237, 'PU' : 244, 'AM' : 243, 'CM' : 247, 'BK' : 247,\\\n",
    "                 'CT' : 251, 'ES' : 252, 'FM' : 257, 'MD' : 258, 'NO' : 259,\\\n",
    "                 'LR' : 262, 'RF' : 261, 'DB' : 262, 'SG' : 266, 'BH' : 264,\\\n",
    "                 'HS' : 269, 'MT' : 268, 'DS' : 271, 'RG' : 272, 'CN' : 285,\\\n",
    "                 'NH' : 284, 'FL' : 289, 'MC' : 288, 'LV' : 292, 'TS' : 294,\\\n",
    "                 'OG' : 294}"
   ]
  }
 ],
 "metadata": {
  "kernelspec": {
   "display_name": "Python 3",
   "language": "python",
   "name": "python3"
  },
  "language_info": {
   "codemirror_mode": {
    "name": "ipython",
    "version": 3
   },
   "file_extension": ".py",
   "mimetype": "text/x-python",
   "name": "python",
   "nbconvert_exporter": "python",
   "pygments_lexer": "ipython3",
   "version": "3.8.8"
  }
 },
 "nbformat": 4,
 "nbformat_minor": 5
}
